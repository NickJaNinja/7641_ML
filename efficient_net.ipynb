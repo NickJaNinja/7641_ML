{
  "cells": [
    {
      "cell_type": "markdown",
      "source": [
        "## Instructions\n",
        "\n",
        "This file is meant to be run from Google Colab to run properly.\n",
        "\n",
        "Steps to get this working:\n",
        "1. Go to your Kaggle Account, and get a \"New API Token\" which installs a json file.\n",
        "2. Upload this file into Colab under root/.kaggle (need to toggle visibility of hidden directories to see this)"
      ],
      "metadata": {
        "id": "co5XQ-oUMZYw"
      }
    },
    {
      "cell_type": "code",
      "source": [
        "! chmod 600 /root/.kaggle/kaggle.json\n",
        "! kaggle competitions download state-farm-distracted-driver-detection --force\n",
        "! unzip -q state-farm-distracted-driver-detection.zip"
      ],
      "metadata": {
        "colab": {
          "base_uri": "https://localhost:8080/"
        },
        "id": "GLia7xVGdmg7",
        "outputId": "1b14977a-8d21-4d2e-99a1-c24ca989662c"
      },
      "execution_count": 3,
      "outputs": [
        {
          "output_type": "stream",
          "name": "stdout",
          "text": [
            "Downloading state-farm-distracted-driver-detection.zip to /content\n",
            "100% 3.99G/4.00G [01:04<00:00, 68.6MB/s]\n",
            "100% 4.00G/4.00G [01:04<00:00, 66.6MB/s]\n"
          ]
        }
      ]
    },
    {
      "cell_type": "code",
      "execution_count": 49,
      "metadata": {
        "id": "IWdrmgU2dgED"
      },
      "outputs": [],
      "source": [
        "import os, csv\n",
        "\n",
        "import tensorflow as tf\n",
        "import tensorflow_datasets as tfds\n",
        "from tensorflow.keras.models import Sequential\n",
        "from tensorflow.keras import layers \n",
        "from tensorflow.keras.applications import EfficientNetB0\n",
        "\n",
        "TRAIN_DIR = './imgs/train'\n",
        "TEST_DIR = './imgs/test'\n",
        "\n",
        "NUM_CLASSES = 10\n",
        "IMG_SIZE = 224  # EfficientNet was trained on (224,224,3) images\n",
        "\n",
        "# Hyperparameters\n",
        "BATCH_SIZE = 64\n",
        "VALIDATION_SPLIT = 0.2\n",
        "NUM_EPOCH = 10\n",
        "LEARNING_RATE = 1e-2\n",
        "MODEL_NAME = 'EfficientNet_B0'\n",
        "PRETRAIN_WEIGHTS = 'imagenet' # Can be 'imagenet' or None"
      ]
    },
    {
      "cell_type": "code",
      "execution_count": 6,
      "metadata": {
        "id": "FAmv38DadgEI"
      },
      "outputs": [],
      "source": [
        "def build_dataset():\n",
        "    train_data = tf.keras.utils.image_dataset_from_directory(\n",
        "        TRAIN_DIR, \n",
        "        label_mode='categorical', \n",
        "        image_size=(IMG_SIZE, IMG_SIZE), \n",
        "        batch_size=64,\n",
        "        seed=0, # Needed when using validation split\n",
        "        validation_split=VALIDATION_SPLIT,\n",
        "        subset='training'\n",
        "    )\n",
        "    val_data = tf.keras.utils.image_dataset_from_directory(\n",
        "        TRAIN_DIR, \n",
        "        label_mode='categorical', \n",
        "        image_size=(IMG_SIZE, IMG_SIZE), \n",
        "        batch_size=64,\n",
        "        shuffle=False,\n",
        "        validation_split=VALIDATION_SPLIT,\n",
        "        subset='validation'\n",
        "    )\n",
        "    test_data = tf.keras.utils.image_dataset_from_directory(\n",
        "        TEST_DIR, \n",
        "        labels=None, \n",
        "        image_size=(IMG_SIZE, IMG_SIZE), \n",
        "        batch_size=64, \n",
        "        shuffle=False # Sorts alphabetically by filename\n",
        "    )\n",
        "\n",
        "    return (train_data, val_data, test_data)"
      ]
    },
    {
      "cell_type": "code",
      "execution_count": 48,
      "metadata": {
        "id": "rrPbB81CdgEH"
      },
      "outputs": [],
      "source": [
        "img_augmentation = Sequential(\n",
        "    [\n",
        "        layers.RandomRotation(factor=0.15),\n",
        "        layers.RandomContrast(factor=0.1),\n",
        "    ],\n",
        "    name='img_augmentation',\n",
        ")\n",
        "\n",
        "def build_model(num_classes, weights=None):\n",
        "    inputs = layers.Input(shape=(IMG_SIZE, IMG_SIZE, 3))\n",
        "    x = img_augmentation(inputs)\n",
        "    \n",
        "    if weights is None:\n",
        "      model = EfficientNetB0(include_top=True, input_tensor=x, weights=None, classes=num_classes)\n",
        "    else:\n",
        "      # Using pretrained weights, so let's finetune the top layers\n",
        "      model = EfficientNetB0(include_top=False, input_tensor=x, weights=weights)\n",
        "      model.trainable = False # Freeze layers\n",
        "\n",
        "      # Add top layers (not frozen)\n",
        "      x = layers.GlobalAveragePooling2D()(model.output)\n",
        "      x = layers.BatchNormalization()(x)\n",
        "      x = layers.Dropout(0.2)(x)\n",
        "      outputs = layers.Dense(NUM_CLASSES, activation='softmax', name='prediction')(x)\n",
        "      \n",
        "      model = tf.keras.Model(inputs, outputs, name=MODEL_NAME)\n",
        "    \n",
        "    optimizer = tf.keras.optimizers.Adam(learning_rate=LEARNING_RATE)\n",
        "    model.compile(optimizer=optimizer, \n",
        "                  loss='categorical_crossentropy', \n",
        "                  metrics=['accuracy'])\n",
        "\n",
        "    return model"
      ]
    },
    {
      "cell_type": "code",
      "source": [
        "from google.colab import files\n",
        "\n",
        "def save_output_csv(filename, y_pred):\n",
        "  output_path = f'{filename}.csv'\n",
        "  image_names = sorted([img_name for img_name in os.listdir(TEST_DIR)])\n",
        "\n",
        "  with open(output_path, 'w', newline='') as f:\n",
        "        writer = csv.writer(f)\n",
        "        title_row = ['img'] + [f'c{i}' for i in range(NUM_CLASSES)]\n",
        "        writer.writerow(title_row, )\n",
        "        for i in range(len(image_names)):\n",
        "            name = [image_names[i]]\n",
        "            data = list(map(str, y_pred[i]))\n",
        "            row = name + data\n",
        "            writer.writerow(row)\n",
        "\n",
        "  files.download(output_path)"
      ],
      "metadata": {
        "id": "Zok_IBtOhgmz"
      },
      "execution_count": 8,
      "outputs": []
    },
    {
      "cell_type": "code",
      "execution_count": 12,
      "metadata": {
        "colab": {
          "base_uri": "https://localhost:8080/",
          "height": 468
        },
        "id": "bxhrC8M4dgEI",
        "outputId": "c8185fc1-5028-4799-e143-865ab59c99a5"
      },
      "outputs": [
        {
          "output_type": "stream",
          "name": "stdout",
          "text": [
            "Found 22424 files belonging to 10 classes.\n",
            "Using 17940 files for training.\n",
            "Found 22424 files belonging to 10 classes.\n",
            "Using 4484 files for validation.\n",
            "Found 79726 files belonging to 1 classes.\n",
            "Epoch 1/10\n",
            "281/281 [==============================] - 51s 159ms/step - loss: 1.2369 - accuracy: 0.6711 - val_loss: 0.8661 - val_accuracy: 0.6976\n",
            "Epoch 2/10\n",
            "281/281 [==============================] - 44s 154ms/step - loss: 0.9270 - accuracy: 0.7483 - val_loss: 0.7429 - val_accuracy: 0.7594\n",
            "Epoch 3/10\n",
            "281/281 [==============================] - 44s 153ms/step - loss: 0.7841 - accuracy: 0.7745 - val_loss: 1.1177 - val_accuracy: 0.7067\n",
            "Epoch 4/10\n",
            "281/281 [==============================] - 44s 153ms/step - loss: 0.7609 - accuracy: 0.7784 - val_loss: 0.5787 - val_accuracy: 0.8044\n",
            "Epoch 5/10\n",
            "281/281 [==============================] - 44s 153ms/step - loss: 0.7091 - accuracy: 0.7843 - val_loss: 0.3472 - val_accuracy: 0.8925\n",
            "Epoch 6/10\n",
            "281/281 [==============================] - 44s 152ms/step - loss: 0.6652 - accuracy: 0.7912 - val_loss: 0.5291 - val_accuracy: 0.8020\n",
            "Epoch 7/10\n",
            "281/281 [==============================] - 44s 153ms/step - loss: 0.6540 - accuracy: 0.7938 - val_loss: 0.6633 - val_accuracy: 0.7772\n",
            "Epoch 8/10\n",
            "281/281 [==============================] - 44s 153ms/step - loss: 0.6620 - accuracy: 0.7931 - val_loss: 0.4914 - val_accuracy: 0.8354\n",
            "Epoch 9/10\n",
            "281/281 [==============================] - 44s 154ms/step - loss: 0.6733 - accuracy: 0.7911 - val_loss: 0.6196 - val_accuracy: 0.7977\n",
            "Epoch 10/10\n",
            "281/281 [==============================] - 45s 156ms/step - loss: 0.6752 - accuracy: 0.7892 - val_loss: 0.4585 - val_accuracy: 0.8381\n",
            "1246/1246 [==============================] - 176s 140ms/step\n"
          ]
        },
        {
          "output_type": "display_data",
          "data": {
            "text/plain": [
              "<IPython.core.display.Javascript object>"
            ],
            "application/javascript": [
              "\n",
              "    async function download(id, filename, size) {\n",
              "      if (!google.colab.kernel.accessAllowed) {\n",
              "        return;\n",
              "      }\n",
              "      const div = document.createElement('div');\n",
              "      const label = document.createElement('label');\n",
              "      label.textContent = `Downloading \"${filename}\": `;\n",
              "      div.appendChild(label);\n",
              "      const progress = document.createElement('progress');\n",
              "      progress.max = size;\n",
              "      div.appendChild(progress);\n",
              "      document.body.appendChild(div);\n",
              "\n",
              "      const buffers = [];\n",
              "      let downloaded = 0;\n",
              "\n",
              "      const channel = await google.colab.kernel.comms.open(id);\n",
              "      // Send a message to notify the kernel that we're ready.\n",
              "      channel.send({})\n",
              "\n",
              "      for await (const message of channel.messages) {\n",
              "        // Send a message to notify the kernel that we're ready.\n",
              "        channel.send({})\n",
              "        if (message.buffers) {\n",
              "          for (const buffer of message.buffers) {\n",
              "            buffers.push(buffer);\n",
              "            downloaded += buffer.byteLength;\n",
              "            progress.value = downloaded;\n",
              "          }\n",
              "        }\n",
              "      }\n",
              "      const blob = new Blob(buffers, {type: 'application/binary'});\n",
              "      const a = document.createElement('a');\n",
              "      a.href = window.URL.createObjectURL(blob);\n",
              "      a.download = filename;\n",
              "      div.appendChild(a);\n",
              "      a.click();\n",
              "      div.remove();\n",
              "    }\n",
              "  "
            ]
          },
          "metadata": {}
        },
        {
          "output_type": "display_data",
          "data": {
            "text/plain": [
              "<IPython.core.display.Javascript object>"
            ],
            "application/javascript": [
              "download(\"download_dab2a3ba-aaf3-4f46-a77a-3bffe0074493\", \"EfficientNet_B0.csv\", 11289769)"
            ]
          },
          "metadata": {}
        }
      ],
      "source": [
        "train_data, val_data, test_data = build_dataset()\n",
        "\n",
        "model = build_model(NUM_CLASSES, weights=PRETRAIN_WEIGHTS)\n",
        "\n",
        "history = model.fit(train_data, \n",
        "                    epochs=NUM_EPOCH, \n",
        "                    batch_size=BATCH_SIZE,\n",
        "                    validation_data=val_data)\n",
        "y_pred = model.predict(test_data, batch_size=BATCH_SIZE, verbose=1)\n",
        "\n",
        "save_output_csv(MODEL_NAME, y_pred)"
      ]
    },
    {
      "cell_type": "code",
      "source": [
        "import matplotlib.pyplot as plt\n",
        "\n",
        "def get_title():\n",
        "  if PRETRAIN_WEIGHTS is None:\n",
        "    weights_name = 'From Scratch'\n",
        "  else:\n",
        "    weights_name = 'Pretrained on ImageNet'\n",
        "  return f'{MODEL_NAME} Results ({weights_name})'\n",
        "\n",
        "def plot_accuracy(hist, ax):\n",
        "  ax.plot(hist.history['accuracy'])\n",
        "  ax.plot(hist.history['val_accuracy'])\n",
        "  ax.set_title('Model Accuracy')\n",
        "  ax.set_ylabel('Accuracy')\n",
        "  ax.set_xlabel('Epoch')\n",
        "  ax.legend(['Train', 'Test'], loc='upper left')\n",
        "\n",
        "\n",
        "def plot_loss(hist, ax):\n",
        "  ax.plot(hist.history['loss'])\n",
        "  ax.plot(hist.history['val_loss'])\n",
        "  ax.set_title('Model Loss')\n",
        "  ax.set_ylabel('Loss')\n",
        "  ax.set_xlabel('Epoch')\n",
        "  ax.legend(['Train', 'Test'], loc='upper right')\n",
        "\n",
        "fig, (ax1, ax2) = plt.subplots(1,2)\n",
        "fig.suptitle(get_title())\n",
        "plt.subplots_adjust(left=0, right=1, wspace=0.3, top=0.85)\n",
        "fig.set_dpi(100)\n",
        "plot_accuracy(history, ax1)\n",
        "plot_loss(history, ax2)\n",
        "plt.show()"
      ],
      "metadata": {
        "colab": {
          "base_uri": "https://localhost:8080/",
          "height": 422
        },
        "cellView": "code",
        "id": "qtok3YKU796A",
        "outputId": "c245995c-3db3-4397-d2b1-3a7a480fa045"
      },
      "execution_count": 46,
      "outputs": [
        {
          "output_type": "display_data",
          "data": {
            "text/plain": [
              "<Figure size 600x400 with 2 Axes>"
            ],
            "image/png": "[encoded data removed]"
          },
          "metadata": {
            "needs_background": "light"
          }
        }
      ]
    }
  ],
  "metadata": {
    "interpreter": {
      "hash": "ac59ebe37160ed0dfa835113d9b8498d9f09ceb179beaac4002f036b9467c963"
    },
    "kernelspec": {
      "display_name": "Python 3.9.2 64-bit",
      "language": "python",
      "name": "python3"
    },
    "language_info": {
      "codemirror_mode": {
        "name": "ipython",
        "version": 3
      },
      "file_extension": ".py",
      "mimetype": "text/x-python",
      "name": "python",
      "nbconvert_exporter": "python",
      "pygments_lexer": "ipython3",
      "version": "3.9.2"
    },
    "orig_nbformat": 4,
    "colab": {
      "name": "efficient_net.ipynb",
      "provenance": [],
      "collapsed_sections": []
    },
    "accelerator": "GPU"
  },
  "nbformat": 4,
  "nbformat_minor": 0
}